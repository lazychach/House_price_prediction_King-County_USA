{
 "cells": [
  {
   "cell_type": "markdown",
   "metadata": {},
   "source": [
    "# Imports"
   ]
  },
  {
   "cell_type": "code",
   "execution_count": 1,
   "metadata": {},
   "outputs": [],
   "source": [
    "import pyspark\n",
    "from pyspark import StorageLevel\n",
    "from pyspark.sql import SparkSession\n",
    "from pyspark.sql.functions import col, isnan, when, count\n",
    "from pyspark.sql import functions as F\n",
    "from pyspark.sql.window import Window"
   ]
  },
  {
   "cell_type": "markdown",
   "metadata": {},
   "source": [
    "# Create pyspark session"
   ]
  },
  {
   "cell_type": "code",
   "execution_count": 2,
   "metadata": {},
   "outputs": [
    {
     "name": "stdout",
     "output_type": "stream",
     "text": [
      "Spark session created with custom configurations.\n"
     ]
    }
   ],
   "source": [
    "spark = SparkSession.builder \\\n",
    "    .appName(\"Houce Price prediciton\") \\\n",
    "    .master(\"local[*]\") \\\n",
    "    .config(\"spark.driver.memory\", \"10g\") \\\n",
    "    .config(\"spark.executor.memory\", \"10g\") \\\n",
    "    .config(\"spark.executor.cores\", \"4\") \\\n",
    "    .config(\"spark.driver.cores\", \"4\") \\\n",
    "    .config(\"spark.memory.offHeap.enabled\", \"true\") \\\n",
    "    .config(\"spark.memory.offHeap.size\", \"10g\") \\\n",
    "    .config(\"spark.driver.host\", \"127.0.0.1\") \\\n",
    "    .getOrCreate()\n",
    "\n",
    "print(\"Spark session created with custom configurations.\")"
   ]
  },
  {
   "cell_type": "markdown",
   "metadata": {},
   "source": [
    "# Import dataset"
   ]
  },
  {
   "cell_type": "code",
   "execution_count": 3,
   "metadata": {},
   "outputs": [],
   "source": [
    "dfs_house=spark.read.csv('../data/kc_house_data.csv',header=True,inferSchema=True)"
   ]
  },
  {
   "cell_type": "code",
   "execution_count": 4,
   "metadata": {},
   "outputs": [
    {
     "name": "stdout",
     "output_type": "stream",
     "text": [
      "root\n",
      " |-- id: long (nullable = true)\n",
      " |-- date: string (nullable = true)\n",
      " |-- price: double (nullable = true)\n",
      " |-- bedrooms: integer (nullable = true)\n",
      " |-- bathrooms: double (nullable = true)\n",
      " |-- sqft_living: integer (nullable = true)\n",
      " |-- sqft_lot: integer (nullable = true)\n",
      " |-- floors: double (nullable = true)\n",
      " |-- waterfront: integer (nullable = true)\n",
      " |-- view: integer (nullable = true)\n",
      " |-- condition: integer (nullable = true)\n",
      " |-- grade: integer (nullable = true)\n",
      " |-- sqft_above: integer (nullable = true)\n",
      " |-- sqft_basement: integer (nullable = true)\n",
      " |-- yr_built: integer (nullable = true)\n",
      " |-- yr_renovated: integer (nullable = true)\n",
      " |-- zipcode: integer (nullable = true)\n",
      " |-- lat: double (nullable = true)\n",
      " |-- long: double (nullable = true)\n",
      " |-- sqft_living15: integer (nullable = true)\n",
      " |-- sqft_lot15: integer (nullable = true)\n",
      "\n"
     ]
    }
   ],
   "source": [
    "dfs_house.printSchema()"
   ]
  },
  {
   "cell_type": "markdown",
   "metadata": {},
   "source": [
    "\n",
    "### Dataset Variable Descriptions\n",
    "\n",
    "- **id** : Unique identifier for each property sale.\n",
    "- **date** : Date of the home sale, formatted as a string.\n",
    "- **price** : Sale price of each home, which is the target variable for prediction.\n",
    "- **bedrooms** : Number of bedrooms in the house.\n",
    "- **bathrooms** : Number of bathrooms in the house, including partial bathrooms.\n",
    "- **sqft_living** : Square footage of the interior living space.\n",
    "- **sqft_lot** : Square footage of the lot.\n",
    "- **floors** : Number of floors in the property.\n",
    "- **waterfront** : Binary indicator of whether the property has a waterfront view (1 = yes, 0 = no).\n",
    "- **view** : An index from 0 to 4 indicating the quality of the view.\n",
    "- **condition** : Overall condition rating of the property, on a scale from 1 to 5.\n",
    "- **grade** : An index from 1 to 13 indicating the construction and design quality of the property, with higher values representing better quality.\n",
    "- **sqft_above** : Square footage of the house above ground level.\n",
    "- **sqft_basement** : Square footage of the basement in the property.\n",
    "- **yr_built** : Year the property was built.\n",
    "- **yr_renovated** : Year of the most recent renovation. A value of 0 indicates no renovation.\n",
    "- **zipcode** : ZIP code of the property, representing its location.\n",
    "- **lat** : Latitude coordinate of the property.\n",
    "- **long** : Longitude coordinate of the property.\n",
    "- **sqft_living15** : Average square footage of living space for the 15 nearest neighboring properties.\n",
    "- **sqft_lot15** : Average square footage of the lot for the 15 nearest neighboring properties."
   ]
  },
  {
   "cell_type": "markdown",
   "metadata": {},
   "source": [
    "## Persist and count"
   ]
  },
  {
   "cell_type": "code",
   "execution_count": 5,
   "metadata": {},
   "outputs": [
    {
     "data": {
      "text/plain": [
       "21613"
      ]
     },
     "execution_count": 5,
     "metadata": {},
     "output_type": "execute_result"
    }
   ],
   "source": [
    "dfs_house.persist(StorageLevel.MEMORY_AND_DISK).count()"
   ]
  },
  {
   "cell_type": "markdown",
   "metadata": {},
   "source": [
    "With 21613 values, the use of pyspark seems appropriate, and its possible to persist the dataframe"
   ]
  },
  {
   "cell_type": "code",
   "execution_count": 6,
   "metadata": {},
   "outputs": [
    {
     "name": "stdout",
     "output_type": "stream",
     "text": [
      "+----------+---------------+---------+--------+---------+-----------+--------+------+----------+----+---------+-----+----------+-------------+--------+------------+-------+-------+--------+-------------+----------+\n",
      "|        id|           date|    price|bedrooms|bathrooms|sqft_living|sqft_lot|floors|waterfront|view|condition|grade|sqft_above|sqft_basement|yr_built|yr_renovated|zipcode|    lat|    long|sqft_living15|sqft_lot15|\n",
      "+----------+---------------+---------+--------+---------+-----------+--------+------+----------+----+---------+-----+----------+-------------+--------+------------+-------+-------+--------+-------------+----------+\n",
      "|7129300520|20141013T000000| 221900.0|       3|      1.0|       1180|    5650|   1.0|         0|   0|        3|    7|      1180|            0|    1955|           0|  98178|47.5112|-122.257|         1340|      5650|\n",
      "|6414100192|20141209T000000| 538000.0|       3|     2.25|       2570|    7242|   2.0|         0|   0|        3|    7|      2170|          400|    1951|        1991|  98125| 47.721|-122.319|         1690|      7639|\n",
      "|5631500400|20150225T000000| 180000.0|       2|      1.0|        770|   10000|   1.0|         0|   0|        3|    6|       770|            0|    1933|           0|  98028|47.7379|-122.233|         2720|      8062|\n",
      "|2487200875|20141209T000000| 604000.0|       4|      3.0|       1960|    5000|   1.0|         0|   0|        5|    7|      1050|          910|    1965|           0|  98136|47.5208|-122.393|         1360|      5000|\n",
      "|1954400510|20150218T000000| 510000.0|       3|      2.0|       1680|    8080|   1.0|         0|   0|        3|    8|      1680|            0|    1987|           0|  98074|47.6168|-122.045|         1800|      7503|\n",
      "|7237550310|20140512T000000|1225000.0|       4|      4.5|       5420|  101930|   1.0|         0|   0|        3|   11|      3890|         1530|    2001|           0|  98053|47.6561|-122.005|         4760|    101930|\n",
      "|1321400060|20140627T000000| 257500.0|       3|     2.25|       1715|    6819|   2.0|         0|   0|        3|    7|      1715|            0|    1995|           0|  98003|47.3097|-122.327|         2238|      6819|\n",
      "|2008000270|20150115T000000| 291850.0|       3|      1.5|       1060|    9711|   1.0|         0|   0|        3|    7|      1060|            0|    1963|           0|  98198|47.4095|-122.315|         1650|      9711|\n",
      "|2414600126|20150415T000000| 229500.0|       3|      1.0|       1780|    7470|   1.0|         0|   0|        3|    7|      1050|          730|    1960|           0|  98146|47.5123|-122.337|         1780|      8113|\n",
      "|3793500160|20150312T000000| 323000.0|       3|      2.5|       1890|    6560|   2.0|         0|   0|        3|    7|      1890|            0|    2003|           0|  98038|47.3684|-122.031|         2390|      7570|\n",
      "|1736800520|20150403T000000| 662500.0|       3|      2.5|       3560|    9796|   1.0|         0|   0|        3|    8|      1860|         1700|    1965|           0|  98007|47.6007|-122.145|         2210|      8925|\n",
      "|9212900260|20140527T000000| 468000.0|       2|      1.0|       1160|    6000|   1.0|         0|   0|        4|    7|       860|          300|    1942|           0|  98115|  47.69|-122.292|         1330|      6000|\n",
      "| 114101516|20140528T000000| 310000.0|       3|      1.0|       1430|   19901|   1.5|         0|   0|        4|    7|      1430|            0|    1927|           0|  98028|47.7558|-122.229|         1780|     12697|\n",
      "|6054650070|20141007T000000| 400000.0|       3|     1.75|       1370|    9680|   1.0|         0|   0|        4|    7|      1370|            0|    1977|           0|  98074|47.6127|-122.045|         1370|     10208|\n",
      "|1175000570|20150312T000000| 530000.0|       5|      2.0|       1810|    4850|   1.5|         0|   0|        3|    7|      1810|            0|    1900|           0|  98107|  47.67|-122.394|         1360|      4850|\n",
      "|9297300055|20150124T000000| 650000.0|       4|      3.0|       2950|    5000|   2.0|         0|   3|        3|    9|      1980|          970|    1979|           0|  98126|47.5714|-122.375|         2140|      4000|\n",
      "|1875500060|20140731T000000| 395000.0|       3|      2.0|       1890|   14040|   2.0|         0|   0|        3|    7|      1890|            0|    1994|           0|  98019|47.7277|-121.962|         1890|     14018|\n",
      "|6865200140|20140529T000000| 485000.0|       4|      1.0|       1600|    4300|   1.5|         0|   0|        4|    7|      1600|            0|    1916|           0|  98103|47.6648|-122.343|         1610|      4300|\n",
      "|  16000397|20141205T000000| 189000.0|       2|      1.0|       1200|    9850|   1.0|         0|   0|        4|    7|      1200|            0|    1921|           0|  98002|47.3089| -122.21|         1060|      5095|\n",
      "|7983200060|20150424T000000| 230000.0|       3|      1.0|       1250|    9774|   1.0|         0|   0|        4|    7|      1250|            0|    1969|           0|  98003|47.3343|-122.306|         1280|      8850|\n",
      "+----------+---------------+---------+--------+---------+-----------+--------+------+----------+----+---------+-----+----------+-------------+--------+------------+-------+-------+--------+-------------+----------+\n",
      "only showing top 20 rows\n",
      "\n"
     ]
    }
   ],
   "source": [
    "dfs_house.show()"
   ]
  },
  {
   "cell_type": "markdown",
   "metadata": {},
   "source": [
    "# Cleaning"
   ]
  },
  {
   "cell_type": "markdown",
   "metadata": {},
   "source": [
    "### Check null values"
   ]
  },
  {
   "cell_type": "code",
   "execution_count": 7,
   "metadata": {},
   "outputs": [
    {
     "name": "stdout",
     "output_type": "stream",
     "text": [
      "Column 'id' has no null values.\n",
      "Column 'date' has no null values.\n",
      "Column 'price' has no null values.\n",
      "Column 'bedrooms' has no null values.\n",
      "Column 'bathrooms' has no null values.\n",
      "Column 'sqft_living' has no null values.\n",
      "Column 'sqft_lot' has no null values.\n",
      "Column 'floors' has no null values.\n",
      "Column 'waterfront' has no null values.\n",
      "Column 'view' has no null values.\n",
      "Column 'condition' has no null values.\n",
      "Column 'grade' has no null values.\n",
      "Column 'sqft_above' has no null values.\n",
      "Column 'sqft_basement' has no null values.\n",
      "Column 'yr_built' has no null values.\n",
      "Column 'yr_renovated' has no null values.\n",
      "Column 'zipcode' has no null values.\n",
      "Column 'lat' has no null values.\n",
      "Column 'long' has no null values.\n",
      "Column 'sqft_living15' has no null values.\n",
      "Column 'sqft_lot15' has no null values.\n"
     ]
    }
   ],
   "source": [
    "for column in dfs_house.columns:\n",
    "    null_count = dfs_house.filter(col(column).isNull()).count()\n",
    "    if null_count > 0:\n",
    "        print(f\"Column '{column}' has {null_count} null values.\")\n",
    "    else:\n",
    "        print(f\"Column '{column}' has no null values.\")"
   ]
  },
  {
   "cell_type": "markdown",
   "metadata": {},
   "source": [
    "### Unique ids"
   ]
  },
  {
   "cell_type": "code",
   "execution_count": 8,
   "metadata": {},
   "outputs": [
    {
     "name": "stdout",
     "output_type": "stream",
     "text": [
      "Il existe 176 doublons dans la colonne 'id'. Voici les ids en double :\n",
      "+----------+-----+\n",
      "|        id|count|\n",
      "+----------+-----+\n",
      "|2023049218|    2|\n",
      "|2787460720|    2|\n",
      "|7853400250|    2|\n",
      "|8121100395|    2|\n",
      "| 123039336|    2|\n",
      "|6021501535|    2|\n",
      "|3333002450|    2|\n",
      "| 641900050|    2|\n",
      "|1825069031|    2|\n",
      "|2019200220|    2|\n",
      "|3578401060|    2|\n",
      "|8910500150|    2|\n",
      "|7409700215|    2|\n",
      "|8820903380|    2|\n",
      "|4443800385|    2|\n",
      "|7899800045|    2|\n",
      "|4204400098|    2|\n",
      "|3523069060|    2|\n",
      "|   1000102|    2|\n",
      "|8682262400|    2|\n",
      "+----------+-----+\n",
      "only showing top 20 rows\n",
      "\n"
     ]
    }
   ],
   "source": [
    "duplicate_ids = dfs_house.groupBy(\"id\").count().filter(col(\"count\") > 1)\n",
    "\n",
    "# Afficher les doublons s'il y en a\n",
    "if duplicate_ids.count() > 0:\n",
    "    print(f\"Il existe {duplicate_ids.count()} doublons dans la colonne 'id'. Voici les ids en double :\")\n",
    "    duplicate_ids.show()\n",
    "else:\n",
    "    print(\"Aucun doublon n'a été trouvé dans la colonne 'id'.\")"
   ]
  },
  {
   "cell_type": "code",
   "execution_count": 9,
   "metadata": {},
   "outputs": [
    {
     "name": "stdout",
     "output_type": "stream",
     "text": [
      "Les lignes avec des IDs en double ne sont pas identiques.\n"
     ]
    }
   ],
   "source": [
    "duplicates_df = dfs_house.join(duplicate_ids, on=\"id\", how=\"inner\")\n",
    "\n",
    "duplicates_dfs = duplicates_df.groupBy(dfs_house.columns).count().filter(col(\"count\") > 1)\n",
    "\n",
    "if duplicates_dfs.count() > 0:\n",
    "    print(\"Certaines lignes avec des IDs en double sont entièrement identiques.\")\n",
    "    duplicates_dfs.show()\n",
    "else:\n",
    "    print(\"Les lignes avec des IDs en double ne sont pas identiques.\")"
   ]
  },
  {
   "cell_type": "markdown",
   "metadata": {},
   "source": [
    "It looks like some house have been sold at least 2 times in a year"
   ]
  },
  {
   "cell_type": "code",
   "execution_count": 10,
   "metadata": {},
   "outputs": [
    {
     "name": "stdout",
     "output_type": "stream",
     "text": [
      "+----------+---------------+--------+--------+---------+-----------+--------+------+----------+----+---------+-----+----------+-------------+--------+------------+-------+-------+--------+-------------+----------+-----+\n",
      "|        id|           date|   price|bedrooms|bathrooms|sqft_living|sqft_lot|floors|waterfront|view|condition|grade|sqft_above|sqft_basement|yr_built|yr_renovated|zipcode|    lat|    long|sqft_living15|sqft_lot15|count|\n",
      "+----------+---------------+--------+--------+---------+-----------+--------+------+----------+----+---------+-----+----------+-------------+--------+------------+-------+-------+--------+-------------+----------+-----+\n",
      "|2023049218|20150316T000000|445000.0|       2|      1.0|        930|    7740|   1.0|         0|   0|        1|    5|       930|            0|    1932|           0|  98148|47.4611|-122.324|         1620|      8584|    2|\n",
      "|2023049218|20140716T000000|105500.0|       2|      1.0|        930|    7740|   1.0|         0|   0|        1|    5|       930|            0|    1932|           0|  98148|47.4611|-122.324|         1620|      8584|    2|\n",
      "|2787460720|20150506T000000|259950.0|       3|      2.0|       1010|    7896|   1.0|         0|   0|        3|    7|      1010|            0|    1984|           0|  98031|47.4046|-122.181|         1540|      7896|    2|\n",
      "|2787460720|20150227T000000|200000.0|       3|      2.0|       1010|    7896|   1.0|         0|   0|        3|    7|      1010|            0|    1984|           0|  98031|47.4046|-122.181|         1540|      7896|    2|\n",
      "|7853400250|20150219T000000|645000.0|       4|      3.5|       2910|    5260|   2.0|         0|   0|        3|    9|      2910|            0|    2012|           0|  98065|47.5168|-121.883|         2910|      5260|    2|\n",
      "|7853400250|20140604T000000|610000.0|       4|      3.5|       2910|    5260|   2.0|         0|   0|        3|    9|      2910|            0|    2012|           0|  98065|47.5168|-121.883|         2910|      5260|    2|\n",
      "|8121100395|20150311T000000|645000.0|       4|      1.5|       1600|    6180|   1.5|         0|   0|        3|    6|      1600|            0|    1946|           0|  98118|47.5681|-122.285|         1410|      6180|    2|\n",
      "|8121100395|20140624T000000|425000.0|       4|      1.5|       1600|    6180|   1.5|         0|   0|        3|    6|      1600|            0|    1946|           0|  98118|47.5681|-122.285|         1410|      6180|    2|\n",
      "| 123039336|20141208T000000|244900.0|       1|      1.0|        620|    8261|   1.0|         0|   0|        3|    5|       620|            0|    1939|           0|  98106|47.5138|-122.364|         1180|      8244|    2|\n",
      "| 123039336|20140611T000000|148000.0|       1|      1.0|        620|    8261|   1.0|         0|   0|        3|    5|       620|            0|    1939|           0|  98106|47.5138|-122.364|         1180|      8244|    2|\n",
      "|6021501535|20141223T000000|700000.0|       3|      1.5|       1580|    5000|   1.0|         0|   0|        3|    8|      1290|          290|    1939|           0|  98117| 47.687|-122.386|         1570|      4500|    2|\n",
      "|6021501535|20140725T000000|430000.0|       3|      1.5|       1580|    5000|   1.0|         0|   0|        3|    8|      1290|          290|    1939|           0|  98117| 47.687|-122.386|         1570|      4500|    2|\n",
      "|3333002450|20150122T000000|490000.0|       1|      1.0|        850|    8050|   1.0|         0|   0|        2|    6|       850|            0|    1906|           0|  98118|47.5427|-122.288|         1590|      5180|    2|\n",
      "|3333002450|20140708T000000|165000.0|       1|      1.0|        850|    8050|   1.0|         0|   0|        2|    6|       850|            0|    1906|           0|  98118|47.5427|-122.288|         1590|      5180|    2|\n",
      "| 641900050|20150206T000000|499950.0|       4|     2.25|       2160|    8817|   1.0|         0|   0|        3|    7|      1460|          700|    1965|           0|  98133|47.7595|-122.356|         1880|      8817|    2|\n",
      "| 641900050|20140819T000000|335000.0|       4|     2.25|       2160|    8817|   1.0|         0|   0|        3|    7|      1460|          700|    1965|           0|  98133|47.7595|-122.356|         1880|      8817|    2|\n",
      "|1825069031|20141016T000000|550000.0|       4|     1.75|       2410|    8447|   2.0|         0|   3|        4|    8|      2060|          350|    1936|        1980|  98074|47.6499|-122.088|         2520|     14789|    2|\n",
      "|1825069031|20140814T000000|550000.0|       4|     1.75|       2410|    8447|   2.0|         0|   3|        4|    8|      2060|          350|    1936|        1980|  98074|47.6499|-122.088|         2520|     14789|    2|\n",
      "|2019200220|20150226T000000|269000.0|       3|     2.25|       1470|    8682|   1.0|         0|   0|        3|    7|      1160|          310|    1985|           0|  98003|47.2729|-122.299|         1670|      8359|    2|\n",
      "|2019200220|20140923T000000|160000.0|       3|     2.25|       1470|    8682|   1.0|         0|   0|        3|    7|      1160|          310|    1985|           0|  98003|47.2729|-122.299|         1670|      8359|    2|\n",
      "+----------+---------------+--------+--------+---------+-----------+--------+------+----------+----+---------+-----+----------+-------------+--------+------------+-------+-------+--------+-------------+----------+-----+\n",
      "only showing top 20 rows\n",
      "\n"
     ]
    }
   ],
   "source": [
    "duplicates_df.show()"
   ]
  },
  {
   "cell_type": "markdown",
   "metadata": {},
   "source": [
    "### Comparison price"
   ]
  },
  {
   "cell_type": "code",
   "execution_count": 11,
   "metadata": {},
   "outputs": [
    {
     "name": "stdout",
     "output_type": "stream",
     "text": [
      "+----------+---------------+--------+\n",
      "|id        |date           |price   |\n",
      "+----------+---------------+--------+\n",
      "|1000102   |20140916T000000|280000.0|\n",
      "|7200179   |20141016T000000|150000.0|\n",
      "|109200390 |20140820T000000|245000.0|\n",
      "|123039336 |20140611T000000|148000.0|\n",
      "|251300110 |20140731T000000|225000.0|\n",
      "|302000375 |20140814T000000|169100.0|\n",
      "|324000530 |20140708T000000|201500.0|\n",
      "|526059224 |20140923T000000|260000.0|\n",
      "|641900050 |20140819T000000|335000.0|\n",
      "|643300040 |20141104T000000|481000.0|\n",
      "|705730280 |20140819T000000|325000.0|\n",
      "|722039087 |20140923T000000|220500.0|\n",
      "|723049156 |20140523T000000|149000.0|\n",
      "|726049190 |20141002T000000|287500.0|\n",
      "|795000620 |20140924T000000|115000.0|\n",
      "|937000330 |20141224T000000|157000.0|\n",
      "|1036400200|20150213T000000|661000.0|\n",
      "|1139600270|20140701T000000|300000.0|\n",
      "|1217000340|20140606T000000|185000.0|\n",
      "|1219000473|20140626T000000|164950.0|\n",
      "+----------+---------------+--------+\n",
      "only showing top 20 rows\n",
      "\n",
      "+----------+---------------+--------+\n",
      "|id        |date           |price   |\n",
      "+----------+---------------+--------+\n",
      "|1000102   |20150422T000000|300000.0|\n",
      "|7200179   |20150424T000000|175000.0|\n",
      "|109200390 |20141020T000000|250000.0|\n",
      "|123039336 |20141208T000000|244900.0|\n",
      "|251300110 |20150114T000000|358000.0|\n",
      "|302000375 |20150506T000000|250000.0|\n",
      "|324000530 |20150323T000000|459000.0|\n",
      "|526059224 |20150206T000000|470000.0|\n",
      "|641900050 |20150206T000000|499950.0|\n",
      "|643300040 |20150313T000000|719521.0|\n",
      "|705730280 |20150421T000000|335000.0|\n",
      "|722039087 |20150504T000000|329000.0|\n",
      "|723049156 |20141112T000000|284700.0|\n",
      "|726049190 |20150218T000000|431000.0|\n",
      "|795000620 |20141215T000000|124000.0|\n",
      "|937000330 |20150319T000000|246500.0|\n",
      "|1036400200|20150429T000000|697000.0|\n",
      "|1139600270|20150324T000000|310000.0|\n",
      "|1217000340|20150219T000000|340000.0|\n",
      "|1219000473|20150323T000000|371000.0|\n",
      "+----------+---------------+--------+\n",
      "only showing top 20 rows\n",
      "\n"
     ]
    }
   ],
   "source": [
    "duplicates_df = duplicates_df.withColumn(\"date_ts\", F.to_timestamp(F.col(\"date\").substr(1, 8), \"yyyyMMdd\"))\n",
    "\n",
    "window_spec = Window.partitionBy(\"id\").orderBy(\"date_ts\")\n",
    "\n",
    "duplicates_df = duplicates_df.withColumn(\"row_num\", F.row_number().over(window_spec))\n",
    "\n",
    "first_sale_df = duplicates_df.filter(F.col(\"row_num\") == 1).select('id','date','price')\n",
    "second_sale_df = duplicates_df.filter(F.col(\"row_num\") == 2).select('id','date','price')\n",
    "\n",
    "first_sale_df.show(truncate=False)\n",
    "second_sale_df.show(truncate=False)"
   ]
  },
  {
   "cell_type": "code",
   "execution_count": 12,
   "metadata": {},
   "outputs": [
    {
     "name": "stdout",
     "output_type": "stream",
     "text": [
      "+----------+---------------+----------------+---------------+-----------------+----------------+\n",
      "|id        |first_date     |first_sale_price|second_date    |second_sale_price|price_difference|\n",
      "+----------+---------------+----------------+---------------+-----------------+----------------+\n",
      "|1000102   |20140916T000000|280000.0        |20150422T000000|300000.0         |20000.0         |\n",
      "|7200179   |20141016T000000|150000.0        |20150424T000000|175000.0         |25000.0         |\n",
      "|109200390 |20140820T000000|245000.0        |20141020T000000|250000.0         |5000.0          |\n",
      "|123039336 |20140611T000000|148000.0        |20141208T000000|244900.0         |96900.0         |\n",
      "|251300110 |20140731T000000|225000.0        |20150114T000000|358000.0         |133000.0        |\n",
      "|302000375 |20140814T000000|169100.0        |20150506T000000|250000.0         |80900.0         |\n",
      "|324000530 |20140708T000000|201500.0        |20150323T000000|459000.0         |257500.0        |\n",
      "|526059224 |20140923T000000|260000.0        |20150206T000000|470000.0         |210000.0        |\n",
      "|641900050 |20140819T000000|335000.0        |20150206T000000|499950.0         |164950.0        |\n",
      "|643300040 |20141104T000000|481000.0        |20150313T000000|719521.0         |238521.0        |\n",
      "|705730280 |20140819T000000|325000.0        |20150421T000000|335000.0         |10000.0         |\n",
      "|722039087 |20140923T000000|220500.0        |20150504T000000|329000.0         |108500.0        |\n",
      "|723049156 |20140523T000000|149000.0        |20141112T000000|284700.0         |135700.0        |\n",
      "|726049190 |20141002T000000|287500.0        |20150218T000000|431000.0         |143500.0        |\n",
      "|795000620 |20140924T000000|115000.0        |20141215T000000|124000.0         |9000.0          |\n",
      "|937000330 |20141224T000000|157000.0        |20150319T000000|246500.0         |89500.0         |\n",
      "|1036400200|20150213T000000|661000.0        |20150429T000000|697000.0         |36000.0         |\n",
      "|1139600270|20140701T000000|300000.0        |20150324T000000|310000.0         |10000.0         |\n",
      "|1217000340|20140606T000000|185000.0        |20150219T000000|340000.0         |155000.0        |\n",
      "|1219000473|20140626T000000|164950.0        |20150323T000000|371000.0         |206050.0        |\n",
      "+----------+---------------+----------------+---------------+-----------------+----------------+\n",
      "only showing top 20 rows\n",
      "\n"
     ]
    }
   ],
   "source": [
    "first_sale_df = first_sale_df.withColumnRenamed(\"date\", \"first_date\") \\\n",
    "                             .withColumnRenamed(\"price\", \"first_sale_price\")\n",
    "\n",
    "second_sale_df = second_sale_df.withColumnRenamed(\"date\", \"second_date\") \\\n",
    "                               .withColumnRenamed(\"price\", \"second_sale_price\")\n",
    "\n",
    "combined_dfs = first_sale_df.join(second_sale_df, on=\"id\", how=\"inner\")\n",
    "combined_dfs = combined_dfs.withColumn(\"price_difference\", F.col(\"second_sale_price\") - F.col(\"first_sale_price\"))\n",
    "\n",
    "combined_dfs.show(truncate=False)"
   ]
  },
  {
   "cell_type": "code",
   "execution_count": 13,
   "metadata": {},
   "outputs": [
    {
     "data": {
      "text/plain": [
       "176"
      ]
     },
     "execution_count": 13,
     "metadata": {},
     "output_type": "execute_result"
    }
   ],
   "source": [
    "combined_dfs.persist(StorageLevel.MEMORY_AND_DISK).count()"
   ]
  },
  {
   "cell_type": "code",
   "execution_count": 14,
   "metadata": {},
   "outputs": [
    {
     "name": "stdout",
     "output_type": "stream",
     "text": [
      "+----------+---------------+----------------+---------------+-----------------+----------------+-------------+\n",
      "|id        |first_date     |first_sale_price|second_date    |second_sale_price|price_difference|is_negligible|\n",
      "+----------+---------------+----------------+---------------+-----------------+----------------+-------------+\n",
      "|1825069031|20140814T000000|550000.0        |20141016T000000|550000.0         |0.0             |true         |\n",
      "|8682262400|20140718T000000|430000.0        |20150513T000000|419950.0         |-10050.0        |true         |\n",
      "|795000620 |20140924T000000|115000.0        |20141215T000000|124000.0         |9000.0          |true         |\n",
      "|9222400605|20141115T000000|842500.0        |20150411T000000|850000.0         |7500.0          |true         |\n",
      "|7701960990|20140616T000000|862000.0        |20140819T000000|870000.0         |8000.0          |true         |\n",
      "|1139600270|20140701T000000|300000.0        |20150324T000000|310000.0         |10000.0         |true         |\n",
      "|7520000520|20140905T000000|232000.0        |20150311T000000|240500.0         |8500.0          |true         |\n",
      "|705730280 |20140819T000000|325000.0        |20150421T000000|335000.0         |10000.0         |true         |\n",
      "|8648900110|20140505T000000|555000.0        |20140826T000000|555000.0         |0.0             |true         |\n",
      "|2619920170|20141001T000000|772500.0        |20141219T000000|765000.0         |-7500.0         |true         |\n",
      "|6308000010|20141208T000000|585000.0        |20150423T000000|585000.0         |0.0             |true         |\n",
      "|109200390 |20140820T000000|245000.0        |20141020T000000|250000.0         |5000.0          |true         |\n",
      "|3630120700|20140513T000000|757000.0        |20150107T000000|765000.0         |8000.0          |true         |\n",
      "+----------+---------------+----------------+---------------+-----------------+----------------+-------------+\n",
      "\n"
     ]
    },
    {
     "data": {
      "text/plain": [
       "13"
      ]
     },
     "execution_count": 14,
     "metadata": {},
     "output_type": "execute_result"
    }
   ],
   "source": [
    "average_price = combined_dfs.agg(F.avg(\"first_sale_price\")).first()[0]\n",
    "\n",
    "# Define a margin as 2% of the average price\n",
    "negligible_margin = average_price * 0.03\n",
    "\n",
    "combined_df = combined_dfs.withColumn(\n",
    "    \"is_negligible\", F.abs(F.col(\"price_difference\")) <= negligible_margin\n",
    ")\n",
    "\n",
    "negligible_df = combined_df.filter(F.col(\"is_negligible\") == True)\n",
    "negligible_df.show(truncate=False)\n",
    "negligible_df.count()"
   ]
  },
  {
   "cell_type": "markdown",
   "metadata": {},
   "source": [
    "#### Filter out the found duplicates"
   ]
  },
  {
   "cell_type": "code",
   "execution_count": 15,
   "metadata": {},
   "outputs": [
    {
     "name": "stdout",
     "output_type": "stream",
     "text": [
      "+----------+---------------+---------+--------+---------+-----------+--------+------+----------+----+---------+-----+----------+-------------+--------+------------+-------+-------+--------+-------------+----------+\n",
      "|id        |date           |price    |bedrooms|bathrooms|sqft_living|sqft_lot|floors|waterfront|view|condition|grade|sqft_above|sqft_basement|yr_built|yr_renovated|zipcode|lat    |long    |sqft_living15|sqft_lot15|\n",
      "+----------+---------------+---------+--------+---------+-----------+--------+------+----------+----+---------+-----+----------+-------------+--------+------------+-------+-------+--------+-------------+----------+\n",
      "|7129300520|20141013T000000|221900.0 |3       |1.0      |1180       |5650    |1.0   |0         |0   |3        |7    |1180      |0            |1955    |0           |98178  |47.5112|-122.257|1340         |5650      |\n",
      "|6414100192|20141209T000000|538000.0 |3       |2.25     |2570       |7242    |2.0   |0         |0   |3        |7    |2170      |400          |1951    |1991        |98125  |47.721 |-122.319|1690         |7639      |\n",
      "|5631500400|20150225T000000|180000.0 |2       |1.0      |770        |10000   |1.0   |0         |0   |3        |6    |770       |0            |1933    |0           |98028  |47.7379|-122.233|2720         |8062      |\n",
      "|2487200875|20141209T000000|604000.0 |4       |3.0      |1960       |5000    |1.0   |0         |0   |5        |7    |1050      |910          |1965    |0           |98136  |47.5208|-122.393|1360         |5000      |\n",
      "|1954400510|20150218T000000|510000.0 |3       |2.0      |1680       |8080    |1.0   |0         |0   |3        |8    |1680      |0            |1987    |0           |98074  |47.6168|-122.045|1800         |7503      |\n",
      "|7237550310|20140512T000000|1225000.0|4       |4.5      |5420       |101930  |1.0   |0         |0   |3        |11   |3890      |1530         |2001    |0           |98053  |47.6561|-122.005|4760         |101930    |\n",
      "|1321400060|20140627T000000|257500.0 |3       |2.25     |1715       |6819    |2.0   |0         |0   |3        |7    |1715      |0            |1995    |0           |98003  |47.3097|-122.327|2238         |6819      |\n",
      "|2008000270|20150115T000000|291850.0 |3       |1.5      |1060       |9711    |1.0   |0         |0   |3        |7    |1060      |0            |1963    |0           |98198  |47.4095|-122.315|1650         |9711      |\n",
      "|2414600126|20150415T000000|229500.0 |3       |1.0      |1780       |7470    |1.0   |0         |0   |3        |7    |1050      |730          |1960    |0           |98146  |47.5123|-122.337|1780         |8113      |\n",
      "|3793500160|20150312T000000|323000.0 |3       |2.5      |1890       |6560    |2.0   |0         |0   |3        |7    |1890      |0            |2003    |0           |98038  |47.3684|-122.031|2390         |7570      |\n",
      "|1736800520|20150403T000000|662500.0 |3       |2.5      |3560       |9796    |1.0   |0         |0   |3        |8    |1860      |1700         |1965    |0           |98007  |47.6007|-122.145|2210         |8925      |\n",
      "|9212900260|20140527T000000|468000.0 |2       |1.0      |1160       |6000    |1.0   |0         |0   |4        |7    |860       |300          |1942    |0           |98115  |47.69  |-122.292|1330         |6000      |\n",
      "|114101516 |20140528T000000|310000.0 |3       |1.0      |1430       |19901   |1.5   |0         |0   |4        |7    |1430      |0            |1927    |0           |98028  |47.7558|-122.229|1780         |12697     |\n",
      "|6054650070|20141007T000000|400000.0 |3       |1.75     |1370       |9680    |1.0   |0         |0   |4        |7    |1370      |0            |1977    |0           |98074  |47.6127|-122.045|1370         |10208     |\n",
      "|1175000570|20150312T000000|530000.0 |5       |2.0      |1810       |4850    |1.5   |0         |0   |3        |7    |1810      |0            |1900    |0           |98107  |47.67  |-122.394|1360         |4850      |\n",
      "|9297300055|20150124T000000|650000.0 |4       |3.0      |2950       |5000    |2.0   |0         |3   |3        |9    |1980      |970          |1979    |0           |98126  |47.5714|-122.375|2140         |4000      |\n",
      "|1875500060|20140731T000000|395000.0 |3       |2.0      |1890       |14040   |2.0   |0         |0   |3        |7    |1890      |0            |1994    |0           |98019  |47.7277|-121.962|1890         |14018     |\n",
      "|6865200140|20140529T000000|485000.0 |4       |1.0      |1600       |4300    |1.5   |0         |0   |4        |7    |1600      |0            |1916    |0           |98103  |47.6648|-122.343|1610         |4300      |\n",
      "|16000397  |20141205T000000|189000.0 |2       |1.0      |1200       |9850    |1.0   |0         |0   |4        |7    |1200      |0            |1921    |0           |98002  |47.3089|-122.21 |1060         |5095      |\n",
      "|7983200060|20150424T000000|230000.0 |3       |1.0      |1250       |9774    |1.0   |0         |0   |4        |7    |1250      |0            |1969    |0           |98003  |47.3343|-122.306|1280         |8850      |\n",
      "+----------+---------------+---------+--------+---------+-----------+--------+------+----------+----+---------+-----+----------+-------------+--------+------------+-------+-------+--------+-------------+----------+\n",
      "only showing top 20 rows\n",
      "\n"
     ]
    },
    {
     "data": {
      "text/plain": [
       "DataFrame[id: bigint, first_date: string, first_sale_price: double, second_date: string, second_sale_price: double, price_difference: double]"
      ]
     },
     "execution_count": 15,
     "metadata": {},
     "output_type": "execute_result"
    }
   ],
   "source": [
    "negligible_ids=negligible_df.select('id')\n",
    "dfs_house = dfs_house.join(negligible_ids, on=\"id\", how=\"left_anti\")\n",
    "dfs_house.show(truncate=False)\n",
    "dfs_house.persist(StorageLevel.MEMORY_AND_DISK).count()\n",
    "combined_dfs.unpersist()"
   ]
  },
  {
   "cell_type": "markdown",
   "metadata": {},
   "source": [
    "### Clean bathroom and floors data"
   ]
  },
  {
   "cell_type": "code",
   "execution_count": 16,
   "metadata": {},
   "outputs": [
    {
     "name": "stdout",
     "output_type": "stream",
     "text": [
      "+---------+------+\n",
      "|bathrooms|floors|\n",
      "+---------+------+\n",
      "|1        |1     |\n",
      "|2        |2     |\n",
      "|1        |1     |\n",
      "|3        |1     |\n",
      "|2        |1     |\n",
      "|5        |1     |\n",
      "|2        |2     |\n",
      "|2        |1     |\n",
      "|1        |1     |\n",
      "|3        |2     |\n",
      "|3        |1     |\n",
      "|1        |1     |\n",
      "|1        |2     |\n",
      "|2        |1     |\n",
      "|2        |2     |\n",
      "|3        |2     |\n",
      "|2        |2     |\n",
      "|1        |2     |\n",
      "|1        |1     |\n",
      "|1        |1     |\n",
      "+---------+------+\n",
      "only showing top 20 rows\n",
      "\n"
     ]
    }
   ],
   "source": [
    "dfs_house = dfs_house.withColumn(\"bathrooms\", F.round(F.col(\"bathrooms\")).cast(\"integer\")) \\\n",
    "                     .withColumn(\"floors\", F.round(F.col(\"floors\")).cast(\"integer\"))\n",
    "\n",
    "dfs_house.select(\"bathrooms\", \"floors\").show(truncate=False)"
   ]
  },
  {
   "cell_type": "code",
   "execution_count": 17,
   "metadata": {},
   "outputs": [
    {
     "data": {
      "text/plain": [
       "DataFrame[id: bigint, date: string, price: double, bedrooms: int, bathrooms: int, sqft_living: int, sqft_lot: int, floors: int, waterfront: int, view: int, condition: int, grade: int, sqft_above: int, sqft_basement: int, yr_built: int, yr_renovated: int, zipcode: int, lat: double, long: double, sqft_living15: int, sqft_lot15: int]"
      ]
     },
     "execution_count": 17,
     "metadata": {},
     "output_type": "execute_result"
    }
   ],
   "source": [
    "dfs_house.persist(StorageLevel.MEMORY_AND_DISK)"
   ]
  },
  {
   "cell_type": "code",
   "execution_count": 18,
   "metadata": {},
   "outputs": [
    {
     "name": "stdout",
     "output_type": "stream",
     "text": [
      "root\n",
      " |-- id: long (nullable = true)\n",
      " |-- date: string (nullable = true)\n",
      " |-- price: double (nullable = true)\n",
      " |-- bedrooms: integer (nullable = true)\n",
      " |-- bathrooms: integer (nullable = true)\n",
      " |-- sqft_living: integer (nullable = true)\n",
      " |-- sqft_lot: integer (nullable = true)\n",
      " |-- floors: integer (nullable = true)\n",
      " |-- waterfront: integer (nullable = true)\n",
      " |-- view: integer (nullable = true)\n",
      " |-- condition: integer (nullable = true)\n",
      " |-- grade: integer (nullable = true)\n",
      " |-- sqft_above: integer (nullable = true)\n",
      " |-- sqft_basement: integer (nullable = true)\n",
      " |-- yr_built: integer (nullable = true)\n",
      " |-- yr_renovated: integer (nullable = true)\n",
      " |-- zipcode: integer (nullable = true)\n",
      " |-- lat: double (nullable = true)\n",
      " |-- long: double (nullable = true)\n",
      " |-- sqft_living15: integer (nullable = true)\n",
      " |-- sqft_lot15: integer (nullable = true)\n",
      "\n"
     ]
    }
   ],
   "source": [
    "dfs_house.printSchema()"
   ]
  },
  {
   "cell_type": "markdown",
   "metadata": {},
   "source": [
    "### Date"
   ]
  },
  {
   "cell_type": "code",
   "execution_count": 19,
   "metadata": {},
   "outputs": [
    {
     "name": "stdout",
     "output_type": "stream",
     "text": [
      "+---------------+-------------------+------------+\n",
      "|date           |dateTime           |year_of_sale|\n",
      "+---------------+-------------------+------------+\n",
      "|20141013T000000|2014-10-13 00:00:00|2014        |\n",
      "|20141209T000000|2014-12-09 00:00:00|2014        |\n",
      "|20150225T000000|2015-02-25 00:00:00|2015        |\n",
      "|20141209T000000|2014-12-09 00:00:00|2014        |\n",
      "|20150218T000000|2015-02-18 00:00:00|2015        |\n",
      "|20140512T000000|2014-05-12 00:00:00|2014        |\n",
      "|20140627T000000|2014-06-27 00:00:00|2014        |\n",
      "|20150115T000000|2015-01-15 00:00:00|2015        |\n",
      "|20150415T000000|2015-04-15 00:00:00|2015        |\n",
      "|20150312T000000|2015-03-12 00:00:00|2015        |\n",
      "|20150403T000000|2015-04-03 00:00:00|2015        |\n",
      "|20140527T000000|2014-05-27 00:00:00|2014        |\n",
      "|20140528T000000|2014-05-28 00:00:00|2014        |\n",
      "|20141007T000000|2014-10-07 00:00:00|2014        |\n",
      "|20150312T000000|2015-03-12 00:00:00|2015        |\n",
      "|20150124T000000|2015-01-24 00:00:00|2015        |\n",
      "|20140731T000000|2014-07-31 00:00:00|2014        |\n",
      "|20140529T000000|2014-05-29 00:00:00|2014        |\n",
      "|20141205T000000|2014-12-05 00:00:00|2014        |\n",
      "|20150424T000000|2015-04-24 00:00:00|2015        |\n",
      "+---------------+-------------------+------------+\n",
      "only showing top 20 rows\n",
      "\n"
     ]
    }
   ],
   "source": [
    "dfs_house = dfs_house.withColumn(\"dateTime\", F.to_timestamp(F.col(\"date\").substr(1, 8), \"yyyyMMdd\")) \\\n",
    "                     .withColumn(\"year_of_sale\", F.year(\"dateTime\"))\n",
    "\n",
    "# Show the resulting DataFrame with the new columns\n",
    "dfs_house.select(\"date\", \"dateTime\", \"year_of_sale\").show(truncate=False)"
   ]
  },
  {
   "cell_type": "code",
   "execution_count": 20,
   "metadata": {},
   "outputs": [
    {
     "name": "stdout",
     "output_type": "stream",
     "text": [
      "+---------------+-------------------+--------------+\n",
      "|date           |dateTime           |number_of_days|\n",
      "+---------------+-------------------+--------------+\n",
      "|20141013T000000|2014-10-13 00:00:00|165           |\n",
      "|20141209T000000|2014-12-09 00:00:00|222           |\n",
      "|20150225T000000|2015-02-25 00:00:00|300           |\n",
      "|20141209T000000|2014-12-09 00:00:00|222           |\n",
      "|20150218T000000|2015-02-18 00:00:00|293           |\n",
      "|20140512T000000|2014-05-12 00:00:00|11            |\n",
      "|20140627T000000|2014-06-27 00:00:00|57            |\n",
      "|20150115T000000|2015-01-15 00:00:00|259           |\n",
      "|20150415T000000|2015-04-15 00:00:00|349           |\n",
      "|20150312T000000|2015-03-12 00:00:00|315           |\n",
      "|20150403T000000|2015-04-03 00:00:00|337           |\n",
      "|20140527T000000|2014-05-27 00:00:00|26            |\n",
      "|20140528T000000|2014-05-28 00:00:00|27            |\n",
      "|20141007T000000|2014-10-07 00:00:00|159           |\n",
      "|20150312T000000|2015-03-12 00:00:00|315           |\n",
      "|20150124T000000|2015-01-24 00:00:00|268           |\n",
      "|20140731T000000|2014-07-31 00:00:00|91            |\n",
      "|20140529T000000|2014-05-29 00:00:00|28            |\n",
      "|20141205T000000|2014-12-05 00:00:00|218           |\n",
      "|20150424T000000|2015-04-24 00:00:00|358           |\n",
      "+---------------+-------------------+--------------+\n",
      "only showing top 20 rows\n",
      "\n"
     ]
    }
   ],
   "source": [
    "reference_date = F.to_date(F.lit(\"2014-05-01\")) #la dataset répertorie les ventes à partir de Mai2014\n",
    "\n",
    "dfs_house = dfs_house.withColumn(\"number_of_days\", F.datediff(F.col(\"dateTime\"), reference_date))\n",
    "\n",
    "dfs_house.select(\"date\", \"dateTime\", \"number_of_days\").show(truncate=False)"
   ]
  },
  {
   "cell_type": "code",
   "execution_count": 21,
   "metadata": {},
   "outputs": [
    {
     "data": {
      "text/plain": [
       "DataFrame[id: bigint, price: double, bedrooms: int, bathrooms: int, sqft_living: int, sqft_lot: int, floors: int, waterfront: int, view: int, condition: int, grade: int, sqft_above: int, sqft_basement: int, yr_built: int, yr_renovated: int, zipcode: int, lat: double, long: double, sqft_living15: int, sqft_lot15: int, year_of_sale: int, number_of_days: int]"
      ]
     },
     "execution_count": 21,
     "metadata": {},
     "output_type": "execute_result"
    }
   ],
   "source": [
    "dfs_house=dfs_house.drop('date','dateTime')\n",
    "dfs_house.persist(StorageLevel.MEMORY_AND_DISK)"
   ]
  },
  {
   "cell_type": "code",
   "execution_count": 22,
   "metadata": {},
   "outputs": [
    {
     "name": "stdout",
     "output_type": "stream",
     "text": [
      "+--------+------------+---------+---------------------+------------+\n",
      "|yr_built|year_of_sale|age_house|year_since_renovation|yr_renovated|\n",
      "+--------+------------+---------+---------------------+------------+\n",
      "|1955    |2014        |59       |59                   |1955        |\n",
      "|1951    |2014        |63       |23                   |1991        |\n",
      "|1933    |2015        |82       |82                   |1933        |\n",
      "|1965    |2014        |49       |49                   |1965        |\n",
      "|1987    |2015        |28       |28                   |1987        |\n",
      "|2001    |2014        |13       |13                   |2001        |\n",
      "|1995    |2014        |19       |19                   |1995        |\n",
      "|1963    |2015        |52       |52                   |1963        |\n",
      "|1960    |2015        |55       |55                   |1960        |\n",
      "|2003    |2015        |12       |12                   |2003        |\n",
      "|1965    |2015        |50       |50                   |1965        |\n",
      "|1942    |2014        |72       |72                   |1942        |\n",
      "|1927    |2014        |87       |87                   |1927        |\n",
      "|1977    |2014        |37       |37                   |1977        |\n",
      "|1900    |2015        |115      |115                  |1900        |\n",
      "|1979    |2015        |36       |36                   |1979        |\n",
      "|1994    |2014        |20       |20                   |1994        |\n",
      "|1916    |2014        |98       |98                   |1916        |\n",
      "|1921    |2014        |93       |93                   |1921        |\n",
      "|1969    |2015        |46       |46                   |1969        |\n",
      "+--------+------------+---------+---------------------+------------+\n",
      "only showing top 20 rows\n",
      "\n"
     ]
    }
   ],
   "source": [
    "dfs_house = dfs_house.withColumn(\"age_house\", F.col(\"year_of_sale\") - F.col(\"yr_built\"))\n",
    "dfs_house = dfs_house.withColumn(\n",
    "    \"yr_renovated\",\n",
    "    F.when(F.col(\"yr_renovated\") == 0, F.col(\"yr_built\")).otherwise(F.col(\"yr_renovated\"))\n",
    ")\n",
    "dfs_house = dfs_house.withColumn(\"year_since_renovation\", F.col(\"year_of_sale\") - F.col(\"yr_renovated\"))\n",
    "\n",
    "dfs_house.select(\"yr_built\", \"year_of_sale\", \"age_house\",\"year_since_renovation\",'yr_renovated').show(truncate=False)"
   ]
  },
  {
   "cell_type": "code",
   "execution_count": 23,
   "metadata": {},
   "outputs": [
    {
     "name": "stdout",
     "output_type": "stream",
     "text": [
      "+----------+---------+--------+---------+-----------+--------+------+----------+----+---------+-----+----------+-------------+-------+-------+--------+-------------+----------+--------------+---------+---------------------+\n",
      "|        id|    price|bedrooms|bathrooms|sqft_living|sqft_lot|floors|waterfront|view|condition|grade|sqft_above|sqft_basement|zipcode|    lat|    long|sqft_living15|sqft_lot15|number_of_days|age_house|year_since_renovation|\n",
      "+----------+---------+--------+---------+-----------+--------+------+----------+----+---------+-----+----------+-------------+-------+-------+--------+-------------+----------+--------------+---------+---------------------+\n",
      "|7129300520| 221900.0|       3|        1|       1180|    5650|     1|         0|   0|        3|    7|      1180|            0|  98178|47.5112|-122.257|         1340|      5650|           165|       59|                   59|\n",
      "|6414100192| 538000.0|       3|        2|       2570|    7242|     2|         0|   0|        3|    7|      2170|          400|  98125| 47.721|-122.319|         1690|      7639|           222|       63|                   23|\n",
      "|5631500400| 180000.0|       2|        1|        770|   10000|     1|         0|   0|        3|    6|       770|            0|  98028|47.7379|-122.233|         2720|      8062|           300|       82|                   82|\n",
      "|2487200875| 604000.0|       4|        3|       1960|    5000|     1|         0|   0|        5|    7|      1050|          910|  98136|47.5208|-122.393|         1360|      5000|           222|       49|                   49|\n",
      "|1954400510| 510000.0|       3|        2|       1680|    8080|     1|         0|   0|        3|    8|      1680|            0|  98074|47.6168|-122.045|         1800|      7503|           293|       28|                   28|\n",
      "|7237550310|1225000.0|       4|        5|       5420|  101930|     1|         0|   0|        3|   11|      3890|         1530|  98053|47.6561|-122.005|         4760|    101930|            11|       13|                   13|\n",
      "|1321400060| 257500.0|       3|        2|       1715|    6819|     2|         0|   0|        3|    7|      1715|            0|  98003|47.3097|-122.327|         2238|      6819|            57|       19|                   19|\n",
      "|2008000270| 291850.0|       3|        2|       1060|    9711|     1|         0|   0|        3|    7|      1060|            0|  98198|47.4095|-122.315|         1650|      9711|           259|       52|                   52|\n",
      "|2414600126| 229500.0|       3|        1|       1780|    7470|     1|         0|   0|        3|    7|      1050|          730|  98146|47.5123|-122.337|         1780|      8113|           349|       55|                   55|\n",
      "|3793500160| 323000.0|       3|        3|       1890|    6560|     2|         0|   0|        3|    7|      1890|            0|  98038|47.3684|-122.031|         2390|      7570|           315|       12|                   12|\n",
      "|1736800520| 662500.0|       3|        3|       3560|    9796|     1|         0|   0|        3|    8|      1860|         1700|  98007|47.6007|-122.145|         2210|      8925|           337|       50|                   50|\n",
      "|9212900260| 468000.0|       2|        1|       1160|    6000|     1|         0|   0|        4|    7|       860|          300|  98115|  47.69|-122.292|         1330|      6000|            26|       72|                   72|\n",
      "| 114101516| 310000.0|       3|        1|       1430|   19901|     2|         0|   0|        4|    7|      1430|            0|  98028|47.7558|-122.229|         1780|     12697|            27|       87|                   87|\n",
      "|6054650070| 400000.0|       3|        2|       1370|    9680|     1|         0|   0|        4|    7|      1370|            0|  98074|47.6127|-122.045|         1370|     10208|           159|       37|                   37|\n",
      "|1175000570| 530000.0|       5|        2|       1810|    4850|     2|         0|   0|        3|    7|      1810|            0|  98107|  47.67|-122.394|         1360|      4850|           315|      115|                  115|\n",
      "|9297300055| 650000.0|       4|        3|       2950|    5000|     2|         0|   3|        3|    9|      1980|          970|  98126|47.5714|-122.375|         2140|      4000|           268|       36|                   36|\n",
      "|1875500060| 395000.0|       3|        2|       1890|   14040|     2|         0|   0|        3|    7|      1890|            0|  98019|47.7277|-121.962|         1890|     14018|            91|       20|                   20|\n",
      "|6865200140| 485000.0|       4|        1|       1600|    4300|     2|         0|   0|        4|    7|      1600|            0|  98103|47.6648|-122.343|         1610|      4300|            28|       98|                   98|\n",
      "|  16000397| 189000.0|       2|        1|       1200|    9850|     1|         0|   0|        4|    7|      1200|            0|  98002|47.3089| -122.21|         1060|      5095|           218|       93|                   93|\n",
      "|7983200060| 230000.0|       3|        1|       1250|    9774|     1|         0|   0|        4|    7|      1250|            0|  98003|47.3343|-122.306|         1280|      8850|           358|       46|                   46|\n",
      "+----------+---------+--------+---------+-----------+--------+------+----------+----+---------+-----+----------+-------------+-------+-------+--------+-------------+----------+--------------+---------+---------------------+\n",
      "only showing top 20 rows\n",
      "\n"
     ]
    }
   ],
   "source": [
    "dfs_house=dfs_house.drop('yr_built','year_of_sale','yr_renovated')\n",
    "dfs_house.persist(StorageLevel.MEMORY_AND_DISK).show()"
   ]
  },
  {
   "cell_type": "markdown",
   "metadata": {},
   "source": [
    "### Localisation"
   ]
  },
  {
   "cell_type": "markdown",
   "metadata": {},
   "source": [
    "I will first import another dataset to add data (from simplemaps)"
   ]
  },
  {
   "cell_type": "code",
   "execution_count": 26,
   "metadata": {},
   "outputs": [
    {
     "name": "stdout",
     "output_type": "stream",
     "text": [
      "root\n",
      " |-- zip: integer (nullable = true)\n",
      " |-- lat: double (nullable = true)\n",
      " |-- lng: double (nullable = true)\n",
      " |-- city: string (nullable = true)\n",
      " |-- state_id: string (nullable = true)\n",
      " |-- state_name: string (nullable = true)\n",
      " |-- zcta: boolean (nullable = true)\n",
      " |-- parent_zcta: string (nullable = true)\n",
      " |-- population: integer (nullable = true)\n",
      " |-- density: double (nullable = true)\n",
      " |-- county_fips: integer (nullable = true)\n",
      " |-- county_name: string (nullable = true)\n",
      " |-- county_weights: string (nullable = true)\n",
      " |-- county_names_all: string (nullable = true)\n",
      " |-- county_fips_all: string (nullable = true)\n",
      " |-- imprecise: string (nullable = true)\n",
      " |-- military: string (nullable = true)\n",
      " |-- timezone: string (nullable = true)\n",
      "\n"
     ]
    }
   ],
   "source": [
    "dfs_us_zip=spark.read.csv('../data/uszips.csv',header=True,inferSchema=True)\n",
    "dfs_us_zip.printSchema()"
   ]
  },
  {
   "cell_type": "code",
   "execution_count": 28,
   "metadata": {},
   "outputs": [
    {
     "name": "stdout",
     "output_type": "stream",
     "text": [
      "root\n",
      " |-- zip: integer (nullable = true)\n",
      " |-- lat: double (nullable = true)\n",
      " |-- lng: double (nullable = true)\n",
      " |-- city: string (nullable = true)\n",
      " |-- state_id: string (nullable = true)\n",
      " |-- state_name: string (nullable = true)\n",
      " |-- zcta: boolean (nullable = true)\n",
      " |-- parent_zcta: string (nullable = true)\n",
      " |-- population: integer (nullable = true)\n",
      " |-- density: double (nullable = true)\n",
      " |-- county_fips: integer (nullable = true)\n",
      " |-- county_name: string (nullable = true)\n",
      " |-- county_weights: string (nullable = true)\n",
      " |-- county_names_all: string (nullable = true)\n",
      " |-- county_fips_all: string (nullable = true)\n",
      " |-- imprecise: string (nullable = true)\n",
      " |-- military: string (nullable = true)\n",
      " |-- timezone: string (nullable = true)\n",
      "\n"
     ]
    }
   ],
   "source": [
    "dfs_zip_updated=spark.read.csv('../data/uszips_updated.csv',header=True,inferSchema=True)\n",
    "dfs_zip_updated.printSchema()"
   ]
  },
  {
   "cell_type": "code",
   "execution_count": null,
   "metadata": {},
   "outputs": [],
   "source": []
  }
 ],
 "metadata": {
  "kernelspec": {
   "display_name": "Python 3",
   "language": "python",
   "name": "python3"
  },
  "language_info": {
   "codemirror_mode": {
    "name": "ipython",
    "version": 3
   },
   "file_extension": ".py",
   "mimetype": "text/x-python",
   "name": "python",
   "nbconvert_exporter": "python",
   "pygments_lexer": "ipython3",
   "version": "3.9.13"
  }
 },
 "nbformat": 4,
 "nbformat_minor": 2
}
